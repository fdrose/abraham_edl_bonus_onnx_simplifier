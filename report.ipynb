{
 "cells": [
  {
   "cell_type": "markdown",
   "metadata": {},
   "source": [
    "## Reshape"
   ]
  },
  {
   "cell_type": "code",
   "execution_count": 1,
   "metadata": {},
   "outputs": [
    {
     "name": "stdout",
     "output_type": "stream",
     "text": [
      "Serving 'just_reshape.onnx' at http://localhost:8080\n"
     ]
    },
    {
     "data": {
      "text/plain": [
       "('localhost', 8080)"
      ]
     },
     "execution_count": 1,
     "metadata": {},
     "output_type": "execute_result"
    }
   ],
   "source": [
    "import torch\n",
    "import netron\n",
    "\n",
    "class JustReshape(torch.nn.Module):\n",
    "    def __init__(self):\n",
    "        super(JustReshape, self).__init__()\n",
    "\n",
    "    def forward(self, x):\n",
    "        return x.view((x.shape[0], x.shape[1], x.shape[3], x.shape[2]))\n",
    "\n",
    "net = JustReshape()\n",
    "model_name = 'just_reshape.onnx'\n",
    "dummy_input = torch.randn(2, 3, 4, 59)\n",
    "torch.onnx.export(net, dummy_input, model_name, input_names=['input'], output_names=['output'], do_constant_folding=False)\n",
    "netron.start(f'{model_name}')"
   ]
  },
  {
   "cell_type": "code",
   "execution_count": 2,
   "metadata": {},
   "outputs": [
    {
     "name": "stdout",
     "output_type": "stream",
     "text": [
      "Serving 'just_reshape_sim.onnx' at http://localhost:8081\n"
     ]
    },
    {
     "data": {
      "text/plain": [
       "('localhost', 8081)"
      ]
     },
     "execution_count": 2,
     "metadata": {},
     "output_type": "execute_result"
    }
   ],
   "source": [
    "model_name = 'just_reshape_sim.onnx'\n",
    "torch.onnx.export(net, dummy_input, model_name, input_names=['input'], output_names=['output'], do_constant_folding=True)\n",
    "netron.start(f'{model_name}')"
   ]
  },
  {
   "cell_type": "code",
   "execution_count": 3,
   "metadata": {},
   "outputs": [
    {
     "name": "stdout",
     "output_type": "stream",
     "text": [
      "Simplifying\u001b[33m...\u001b[0m\n",
      "Finish! Here is the difference:\n",
      "┏━━━━━━━━━━━━┳━━━━━━━━━━━━━━━━┳━━━━━━━━━━━━━━━━━━┓\n",
      "┃\u001b[1m \u001b[0m\u001b[1m          \u001b[0m\u001b[1m \u001b[0m┃\u001b[1m \u001b[0m\u001b[1mOriginal Model\u001b[0m\u001b[1m \u001b[0m┃\u001b[1m \u001b[0m\u001b[1mSimplified Model\u001b[0m\u001b[1m \u001b[0m┃\n",
      "┡━━━━━━━━━━━━╇━━━━━━━━━━━━━━━━╇━━━━━━━━━━━━━━━━━━┩\n",
      "│ Concat     │ 1              │ \u001b[1;32m0               \u001b[0m │\n",
      "│ Constant   │ 8              │ \u001b[1;32m1               \u001b[0m │\n",
      "│ Reshape    │ 1              │ 1                │\n",
      "│ Unsqueeze  │ 4              │ \u001b[1;32m0               \u001b[0m │\n",
      "│ Model Size │ 1.2KiB         │ \u001b[1;32m209.0B          \u001b[0m │\n",
      "└────────────┴────────────────┴──────────────────┘\n"
     ]
    }
   ],
   "source": [
    "!onnxsim \"just_reshape.onnx\" \"just_reshape_sim2.onnx\""
   ]
  },
  {
   "cell_type": "code",
   "execution_count": 4,
   "metadata": {},
   "outputs": [
    {
     "name": "stdout",
     "output_type": "stream",
     "text": [
      "Serving 'just_reshape_sim2.onnx' at http://localhost:21165\n"
     ]
    },
    {
     "data": {
      "text/plain": [
       "('localhost', 21165)"
      ]
     },
     "execution_count": 4,
     "metadata": {},
     "output_type": "execute_result"
    }
   ],
   "source": [
    "netron.start('just_reshape_sim2.onnx')"
   ]
  },
  {
   "cell_type": "markdown",
   "metadata": {},
   "source": [
    "## ConvBlock"
   ]
  },
  {
   "cell_type": "code",
   "execution_count": 5,
   "metadata": {},
   "outputs": [
    {
     "name": "stdout",
     "output_type": "stream",
     "text": [
      "Serving 'conv.onnx' at http://localhost:22998\n"
     ]
    },
    {
     "data": {
      "text/plain": [
       "('localhost', 22998)"
      ]
     },
     "execution_count": 5,
     "metadata": {},
     "output_type": "execute_result"
    }
   ],
   "source": [
    "conv_block = torch.nn.Sequential(torch.nn.Conv2d(3, 16, 3, padding=1), torch.nn.BatchNorm2d(16), torch.nn.ReLU())\n",
    "model_name = 'conv.onnx'\n",
    "dummy_input = torch.randn(2, 3, 59, 59)\n",
    "torch.onnx.export(conv_block, dummy_input, model_name, input_names=['input'], output_names=['output'], do_constant_folding=False)\n",
    "netron.start(f'{model_name}')"
   ]
  },
  {
   "cell_type": "code",
   "execution_count": 6,
   "metadata": {},
   "outputs": [
    {
     "name": "stdout",
     "output_type": "stream",
     "text": [
      "Serving 'conv_sim.onnx' at http://localhost:23281\n"
     ]
    },
    {
     "data": {
      "text/plain": [
       "('localhost', 23281)"
      ]
     },
     "execution_count": 6,
     "metadata": {},
     "output_type": "execute_result"
    }
   ],
   "source": [
    "model_name = 'conv_sim.onnx'\n",
    "torch.onnx.export(conv_block, dummy_input, model_name, input_names=['input'], output_names=['output'], do_constant_folding=True)\n",
    "netron.start(f'{model_name}')"
   ]
  },
  {
   "cell_type": "code",
   "execution_count": 7,
   "metadata": {},
   "outputs": [
    {
     "name": "stdout",
     "output_type": "stream",
     "text": [
      "Simplifying\u001b[33m...\u001b[0m\n",
      "Finish! Here is the difference:\n",
      "┏━━━━━━━━━━━━━━━━━━━━┳━━━━━━━━━━━━━━━━┳━━━━━━━━━━━━━━━━━━┓\n",
      "┃\u001b[1m \u001b[0m\u001b[1m                  \u001b[0m\u001b[1m \u001b[0m┃\u001b[1m \u001b[0m\u001b[1mOriginal Model\u001b[0m\u001b[1m \u001b[0m┃\u001b[1m \u001b[0m\u001b[1mSimplified Model\u001b[0m\u001b[1m \u001b[0m┃\n",
      "┡━━━━━━━━━━━━━━━━━━━━╇━━━━━━━━━━━━━━━━╇━━━━━━━━━━━━━━━━━━┩\n",
      "│ BatchNormalization │ 1              │ 1                │\n",
      "│ Constant           │ 4              │ 4                │\n",
      "│ Conv               │ 1              │ 1                │\n",
      "│ Identity           │ 2              │ \u001b[1;32m0               \u001b[0m │\n",
      "│ Relu               │ 1              │ 1                │\n",
      "│ Model Size         │ 2.5KiB         │ \u001b[1;32m2.5KiB          \u001b[0m │\n",
      "└────────────────────┴────────────────┴──────────────────┘\n"
     ]
    }
   ],
   "source": [
    "!onnxsim \"conv.onnx\" \"conv_sim2.onnx\""
   ]
  },
  {
   "cell_type": "code",
   "execution_count": 8,
   "metadata": {},
   "outputs": [
    {
     "name": "stdout",
     "output_type": "stream",
     "text": [
      "Serving 'conv_sim2.onnx' at http://localhost:23845\n"
     ]
    },
    {
     "data": {
      "text/plain": [
       "('localhost', 23845)"
      ]
     },
     "execution_count": 8,
     "metadata": {},
     "output_type": "execute_result"
    }
   ],
   "source": [
    "netron.start('conv_sim2.onnx')"
   ]
  },
  {
   "cell_type": "code",
   "execution_count": null,
   "metadata": {},
   "outputs": [],
   "source": []
  }
 ],
 "metadata": {
  "kernelspec": {
   "display_name": "gpu-env",
   "language": "python",
   "name": "python3"
  },
  "language_info": {
   "codemirror_mode": {
    "name": "ipython",
    "version": 3
   },
   "file_extension": ".py",
   "mimetype": "text/x-python",
   "name": "python",
   "nbconvert_exporter": "python",
   "pygments_lexer": "ipython3",
   "version": "3.10.12"
  }
 },
 "nbformat": 4,
 "nbformat_minor": 2
}
